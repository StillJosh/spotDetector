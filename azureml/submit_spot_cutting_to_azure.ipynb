{
 "cells": [
  {
   "attachments": {},
   "cell_type": "markdown",
   "metadata": {},
   "source": [
    "## Connect to Azure Machine Learning Workspace\n",
    "\n",
    "To connect to a workspace, we need identifier parameters - a subscription, resource group and workspace name. We will use these details in the `MLClient` from `azure.ai.ml` to get a handle to the required Azure Machine Learning workspace. We use the default [default azure authentication](https://docs.microsoft.com/en-us/python/api/azure-identity/azure.identity.defaultazurecredential?view=azure-python) for this tutorial. Check the [configuration notebook](../../jobs/configuration.ipynb) for more details on how to configure credentials and connect to a workspace.\n",
    "```"
   ]
  },
  {
   "cell_type": "code",
   "execution_count": 8,
   "metadata": {},
   "outputs": [
    {
     "name": "stdout",
     "output_type": "stream",
     "text": [
      "Collecting azure-ai-ml\n",
      "  Downloading azure_ai_ml-1.21.0-py3-none-any.whl.metadata (33 kB)\n",
      "Requirement already satisfied: pyyaml>=5.1.0 in /Users/joshuastiller/.pyenv/versions/3.12.7/envs/spotDetectorVenv/lib/python3.12/site-packages (from azure-ai-ml) (6.0.2)\n",
      "Requirement already satisfied: msrest>=0.6.18 in /Users/joshuastiller/.pyenv/versions/3.12.7/envs/spotDetectorVenv/lib/python3.12/site-packages (from azure-ai-ml) (0.7.1)\n",
      "Requirement already satisfied: azure-core>=1.23.0 in /Users/joshuastiller/.pyenv/versions/3.12.7/envs/spotDetectorVenv/lib/python3.12/site-packages (from azure-ai-ml) (1.31.0)\n",
      "Requirement already satisfied: azure-mgmt-core>=1.3.0 in /Users/joshuastiller/.pyenv/versions/3.12.7/envs/spotDetectorVenv/lib/python3.12/site-packages (from azure-ai-ml) (1.4.0)\n",
      "Collecting marshmallow>=3.5 (from azure-ai-ml)\n",
      "  Downloading marshmallow-3.23.0-py3-none-any.whl.metadata (7.6 kB)\n",
      "Requirement already satisfied: jsonschema>=4.0.0 in /Users/joshuastiller/.pyenv/versions/3.12.7/envs/spotDetectorVenv/lib/python3.12/site-packages (from azure-ai-ml) (4.23.0)\n",
      "Requirement already satisfied: tqdm in /Users/joshuastiller/.pyenv/versions/3.12.7/envs/spotDetectorVenv/lib/python3.12/site-packages (from azure-ai-ml) (4.66.5)\n",
      "Collecting strictyaml (from azure-ai-ml)\n",
      "  Downloading strictyaml-1.7.3-py3-none-any.whl.metadata (11 kB)\n",
      "Collecting colorama (from azure-ai-ml)\n",
      "  Downloading colorama-0.4.6-py2.py3-none-any.whl.metadata (17 kB)\n",
      "Requirement already satisfied: pyjwt in /Users/joshuastiller/.pyenv/versions/3.12.7/envs/spotDetectorVenv/lib/python3.12/site-packages (from azure-ai-ml) (2.9.0)\n",
      "Collecting azure-storage-blob>=12.10.0 (from azure-ai-ml)\n",
      "  Downloading azure_storage_blob-12.23.1-py3-none-any.whl.metadata (26 kB)\n",
      "Collecting azure-storage-file-share (from azure-ai-ml)\n",
      "  Downloading azure_storage_file_share-12.19.0-py3-none-any.whl.metadata (48 kB)\n",
      "Collecting azure-storage-file-datalake>=12.2.0 (from azure-ai-ml)\n",
      "  Downloading azure_storage_file_datalake-12.17.0-py3-none-any.whl.metadata (16 kB)\n",
      "Collecting pydash>=6.0.0 (from azure-ai-ml)\n",
      "  Downloading pydash-8.0.3-py3-none-any.whl.metadata (4.5 kB)\n",
      "Requirement already satisfied: isodate in /Users/joshuastiller/.pyenv/versions/3.12.7/envs/spotDetectorVenv/lib/python3.12/site-packages (from azure-ai-ml) (0.7.2)\n",
      "Requirement already satisfied: azure-common>=1.1 in /Users/joshuastiller/.pyenv/versions/3.12.7/envs/spotDetectorVenv/lib/python3.12/site-packages (from azure-ai-ml) (1.1.28)\n",
      "Requirement already satisfied: typing-extensions in /Users/joshuastiller/.pyenv/versions/3.12.7/envs/spotDetectorVenv/lib/python3.12/site-packages (from azure-ai-ml) (4.12.2)\n",
      "Collecting opencensus-ext-azure (from azure-ai-ml)\n",
      "  Downloading opencensus_ext_azure-1.1.13-py2.py3-none-any.whl.metadata (16 kB)\n",
      "Collecting opencensus-ext-logging (from azure-ai-ml)\n",
      "  Downloading opencensus_ext_logging-0.1.1-py2.py3-none-any.whl.metadata (2.3 kB)\n",
      "Requirement already satisfied: requests>=2.21.0 in /Users/joshuastiller/.pyenv/versions/3.12.7/envs/spotDetectorVenv/lib/python3.12/site-packages (from azure-core>=1.23.0->azure-ai-ml) (2.32.3)\n",
      "Requirement already satisfied: six>=1.11.0 in /Users/joshuastiller/.pyenv/versions/3.12.7/envs/spotDetectorVenv/lib/python3.12/site-packages (from azure-core>=1.23.0->azure-ai-ml) (1.16.0)\n",
      "Requirement already satisfied: cryptography>=2.1.4 in /Users/joshuastiller/.pyenv/versions/3.12.7/envs/spotDetectorVenv/lib/python3.12/site-packages (from azure-storage-blob>=12.10.0->azure-ai-ml) (43.0.3)\n",
      "Requirement already satisfied: attrs>=22.2.0 in /Users/joshuastiller/.pyenv/versions/3.12.7/envs/spotDetectorVenv/lib/python3.12/site-packages (from jsonschema>=4.0.0->azure-ai-ml) (24.2.0)\n",
      "Requirement already satisfied: jsonschema-specifications>=2023.03.6 in /Users/joshuastiller/.pyenv/versions/3.12.7/envs/spotDetectorVenv/lib/python3.12/site-packages (from jsonschema>=4.0.0->azure-ai-ml) (2024.10.1)\n",
      "Requirement already satisfied: referencing>=0.28.4 in /Users/joshuastiller/.pyenv/versions/3.12.7/envs/spotDetectorVenv/lib/python3.12/site-packages (from jsonschema>=4.0.0->azure-ai-ml) (0.35.1)\n",
      "Requirement already satisfied: rpds-py>=0.7.1 in /Users/joshuastiller/.pyenv/versions/3.12.7/envs/spotDetectorVenv/lib/python3.12/site-packages (from jsonschema>=4.0.0->azure-ai-ml) (0.20.0)\n",
      "Requirement already satisfied: packaging>=17.0 in /Users/joshuastiller/.pyenv/versions/3.12.7/envs/spotDetectorVenv/lib/python3.12/site-packages (from marshmallow>=3.5->azure-ai-ml) (24.1)\n",
      "Requirement already satisfied: certifi>=2017.4.17 in /Users/joshuastiller/.pyenv/versions/3.12.7/envs/spotDetectorVenv/lib/python3.12/site-packages (from msrest>=0.6.18->azure-ai-ml) (2024.8.30)\n",
      "Requirement already satisfied: requests-oauthlib>=0.5.0 in /Users/joshuastiller/.pyenv/versions/3.12.7/envs/spotDetectorVenv/lib/python3.12/site-packages (from msrest>=0.6.18->azure-ai-ml) (2.0.0)\n",
      "Collecting azure-identity<2.0.0,>=1.5.0 (from opencensus-ext-azure->azure-ai-ml)\n",
      "  Downloading azure_identity-1.19.0-py3-none-any.whl.metadata (80 kB)\n",
      "Collecting opencensus<1.0.0,>=0.11.4 (from opencensus-ext-azure->azure-ai-ml)\n",
      "  Downloading opencensus-0.11.4-py2.py3-none-any.whl.metadata (12 kB)\n",
      "Requirement already satisfied: psutil>=5.6.3 in /Users/joshuastiller/.pyenv/versions/3.12.7/envs/spotDetectorVenv/lib/python3.12/site-packages (from opencensus-ext-azure->azure-ai-ml) (6.1.0)\n",
      "Requirement already satisfied: python-dateutil>=2.6.0 in /Users/joshuastiller/.pyenv/versions/3.12.7/envs/spotDetectorVenv/lib/python3.12/site-packages (from strictyaml->azure-ai-ml) (2.9.0.post0)\n",
      "Requirement already satisfied: msal>=1.30.0 in /Users/joshuastiller/.pyenv/versions/3.12.7/envs/spotDetectorVenv/lib/python3.12/site-packages (from azure-identity<2.0.0,>=1.5.0->opencensus-ext-azure->azure-ai-ml) (1.31.0)\n",
      "Requirement already satisfied: msal-extensions>=1.2.0 in /Users/joshuastiller/.pyenv/versions/3.12.7/envs/spotDetectorVenv/lib/python3.12/site-packages (from azure-identity<2.0.0,>=1.5.0->opencensus-ext-azure->azure-ai-ml) (1.2.0)\n",
      "Requirement already satisfied: cffi>=1.12 in /Users/joshuastiller/.pyenv/versions/3.12.7/envs/spotDetectorVenv/lib/python3.12/site-packages (from cryptography>=2.1.4->azure-storage-blob>=12.10.0->azure-ai-ml) (1.17.1)\n",
      "Collecting opencensus-context>=0.1.3 (from opencensus<1.0.0,>=0.11.4->opencensus-ext-azure->azure-ai-ml)\n",
      "  Downloading opencensus_context-0.1.3-py2.py3-none-any.whl.metadata (3.3 kB)\n",
      "Collecting google-api-core<3.0.0,>=1.0.0 (from opencensus<1.0.0,>=0.11.4->opencensus-ext-azure->azure-ai-ml)\n",
      "  Downloading google_api_core-2.21.0-py3-none-any.whl.metadata (2.8 kB)\n",
      "Requirement already satisfied: charset-normalizer<4,>=2 in /Users/joshuastiller/.pyenv/versions/3.12.7/envs/spotDetectorVenv/lib/python3.12/site-packages (from requests>=2.21.0->azure-core>=1.23.0->azure-ai-ml) (3.4.0)\n",
      "Requirement already satisfied: idna<4,>=2.5 in /Users/joshuastiller/.pyenv/versions/3.12.7/envs/spotDetectorVenv/lib/python3.12/site-packages (from requests>=2.21.0->azure-core>=1.23.0->azure-ai-ml) (3.10)\n",
      "Requirement already satisfied: urllib3<3,>=1.21.1 in /Users/joshuastiller/.pyenv/versions/3.12.7/envs/spotDetectorVenv/lib/python3.12/site-packages (from requests>=2.21.0->azure-core>=1.23.0->azure-ai-ml) (2.2.3)\n",
      "Requirement already satisfied: oauthlib>=3.0.0 in /Users/joshuastiller/.pyenv/versions/3.12.7/envs/spotDetectorVenv/lib/python3.12/site-packages (from requests-oauthlib>=0.5.0->msrest>=0.6.18->azure-ai-ml) (3.2.2)\n",
      "Requirement already satisfied: pycparser in /Users/joshuastiller/.pyenv/versions/3.12.7/envs/spotDetectorVenv/lib/python3.12/site-packages (from cffi>=1.12->cryptography>=2.1.4->azure-storage-blob>=12.10.0->azure-ai-ml) (2.22)\n",
      "Collecting googleapis-common-protos<2.0.dev0,>=1.56.2 (from google-api-core<3.0.0,>=1.0.0->opencensus<1.0.0,>=0.11.4->opencensus-ext-azure->azure-ai-ml)\n",
      "  Downloading googleapis_common_protos-1.65.0-py2.py3-none-any.whl.metadata (1.5 kB)\n",
      "Requirement already satisfied: protobuf!=3.20.0,!=3.20.1,!=4.21.0,!=4.21.1,!=4.21.2,!=4.21.3,!=4.21.4,!=4.21.5,<6.0.0.dev0,>=3.19.5 in /Users/joshuastiller/.pyenv/versions/3.12.7/envs/spotDetectorVenv/lib/python3.12/site-packages (from google-api-core<3.0.0,>=1.0.0->opencensus<1.0.0,>=0.11.4->opencensus-ext-azure->azure-ai-ml) (5.28.2)\n",
      "Collecting proto-plus<2.0.0dev,>=1.22.3 (from google-api-core<3.0.0,>=1.0.0->opencensus<1.0.0,>=0.11.4->opencensus-ext-azure->azure-ai-ml)\n",
      "  Downloading proto_plus-1.24.0-py3-none-any.whl.metadata (2.2 kB)\n",
      "Requirement already satisfied: google-auth<3.0.dev0,>=2.14.1 in /Users/joshuastiller/.pyenv/versions/3.12.7/envs/spotDetectorVenv/lib/python3.12/site-packages (from google-api-core<3.0.0,>=1.0.0->opencensus<1.0.0,>=0.11.4->opencensus-ext-azure->azure-ai-ml) (2.35.0)\n",
      "Requirement already satisfied: portalocker<3,>=1.4 in /Users/joshuastiller/.pyenv/versions/3.12.7/envs/spotDetectorVenv/lib/python3.12/site-packages (from msal-extensions>=1.2.0->azure-identity<2.0.0,>=1.5.0->opencensus-ext-azure->azure-ai-ml) (2.10.1)\n",
      "Requirement already satisfied: cachetools<6.0,>=2.0.0 in /Users/joshuastiller/.pyenv/versions/3.12.7/envs/spotDetectorVenv/lib/python3.12/site-packages (from google-auth<3.0.dev0,>=2.14.1->google-api-core<3.0.0,>=1.0.0->opencensus<1.0.0,>=0.11.4->opencensus-ext-azure->azure-ai-ml) (5.5.0)\n",
      "Requirement already satisfied: pyasn1-modules>=0.2.1 in /Users/joshuastiller/.pyenv/versions/3.12.7/envs/spotDetectorVenv/lib/python3.12/site-packages (from google-auth<3.0.dev0,>=2.14.1->google-api-core<3.0.0,>=1.0.0->opencensus<1.0.0,>=0.11.4->opencensus-ext-azure->azure-ai-ml) (0.4.1)\n",
      "Requirement already satisfied: rsa<5,>=3.1.4 in /Users/joshuastiller/.pyenv/versions/3.12.7/envs/spotDetectorVenv/lib/python3.12/site-packages (from google-auth<3.0.dev0,>=2.14.1->google-api-core<3.0.0,>=1.0.0->opencensus<1.0.0,>=0.11.4->opencensus-ext-azure->azure-ai-ml) (4.9)\n",
      "Requirement already satisfied: pyasn1<0.7.0,>=0.4.6 in /Users/joshuastiller/.pyenv/versions/3.12.7/envs/spotDetectorVenv/lib/python3.12/site-packages (from pyasn1-modules>=0.2.1->google-auth<3.0.dev0,>=2.14.1->google-api-core<3.0.0,>=1.0.0->opencensus<1.0.0,>=0.11.4->opencensus-ext-azure->azure-ai-ml) (0.6.1)\n",
      "Downloading azure_ai_ml-1.21.0-py3-none-any.whl (11.4 MB)\n",
      "\u001b[2K   \u001b[90m━━━━━━━━━━━━━━━━━━━━━━━━━━━━━━━━━━━━━━━━\u001b[0m \u001b[32m11.4/11.4 MB\u001b[0m \u001b[31m15.1 MB/s\u001b[0m eta \u001b[36m0:00:00\u001b[0m \u001b[36m0:00:01\u001b[0m\n",
      "\u001b[?25hDownloading azure_storage_blob-12.23.1-py3-none-any.whl (405 kB)\n",
      "Downloading azure_storage_file_datalake-12.17.0-py3-none-any.whl (255 kB)\n",
      "Downloading marshmallow-3.23.0-py3-none-any.whl (49 kB)\n",
      "Downloading pydash-8.0.3-py3-none-any.whl (101 kB)\n",
      "Downloading azure_storage_file_share-12.19.0-py3-none-any.whl (281 kB)\n",
      "Using cached colorama-0.4.6-py2.py3-none-any.whl (25 kB)\n",
      "Downloading opencensus_ext_azure-1.1.13-py2.py3-none-any.whl (43 kB)\n",
      "Downloading opencensus_ext_logging-0.1.1-py2.py3-none-any.whl (4.0 kB)\n",
      "Downloading strictyaml-1.7.3-py3-none-any.whl (123 kB)\n",
      "Downloading azure_identity-1.19.0-py3-none-any.whl (187 kB)\n",
      "Downloading opencensus-0.11.4-py2.py3-none-any.whl (128 kB)\n",
      "Downloading google_api_core-2.21.0-py3-none-any.whl (156 kB)\n",
      "Downloading opencensus_context-0.1.3-py2.py3-none-any.whl (5.1 kB)\n",
      "Downloading googleapis_common_protos-1.65.0-py2.py3-none-any.whl (220 kB)\n",
      "Downloading proto_plus-1.24.0-py3-none-any.whl (50 kB)\n",
      "Installing collected packages: opencensus-context, pydash, proto-plus, marshmallow, googleapis-common-protos, colorama, strictyaml, google-api-core, azure-storage-file-share, azure-storage-blob, opencensus, azure-storage-file-datalake, opencensus-ext-logging, azure-identity, opencensus-ext-azure, azure-ai-ml\n",
      "Successfully installed azure-ai-ml-1.21.0 azure-identity-1.19.0 azure-storage-blob-12.23.1 azure-storage-file-datalake-12.17.0 azure-storage-file-share-12.19.0 colorama-0.4.6 google-api-core-2.21.0 googleapis-common-protos-1.65.0 marshmallow-3.23.0 opencensus-0.11.4 opencensus-context-0.1.3 opencensus-ext-azure-1.1.13 opencensus-ext-logging-0.1.1 proto-plus-1.24.0 pydash-8.0.3 strictyaml-1.7.3\n"
     ]
    }
   ],
   "source": [
    "!pip install azure-ai-ml"
   ]
  },
  {
   "cell_type": "code",
   "execution_count": 10,
   "metadata": {
    "ExecuteTime": {
     "end_time": "2024-10-18T16:40:56.107901Z",
     "start_time": "2024-10-18T16:40:55.935566Z"
    }
   },
   "outputs": [],
   "source": [
    "from azure.ai.ml import MLClient\n",
    "from azure.identity import DefaultAzureCredential\n",
    "\n",
    "# enter details of your AML workspace\n",
    "subscription_id = \"71a4020f-108b-496f-a693-d74af9fa2677\"\n",
    "resource_group = \"nuance-team\"\n",
    "workspace = \"nuance-experiments\"\n",
    "\n",
    "# get a handle to the workspace\n",
    "ml_client = MLClient(\n",
    "    DefaultAzureCredential(), subscription_id, resource_group, workspace\n",
    ")"
   ]
  },
  {
   "attachments": {},
   "cell_type": "markdown",
   "metadata": {},
   "source": [
    "## Reading/writing data in a job"
   ]
  },
  {
   "cell_type": "code",
   "execution_count": 13,
   "metadata": {},
   "outputs": [
    {
     "data": {
      "text/plain": [
       "'https://ml.azure.com/runs/nifty_ear_51w56g287h?wsid=/subscriptions/71a4020f-108b-496f-a693-d74af9fa2677/resourcegroups/nuance-team/workspaces/nuance-experiments&tid=49a830aa-c92e-47d5-bb7e-264801d69db4'"
      ]
     },
     "execution_count": 13,
     "metadata": {},
     "output_type": "execute_result"
    }
   ],
   "source": [
    "from azure.ai.ml import command\n",
    "from azure.ai.ml.entities import Data, JobService\n",
    "from azure.ai.ml import Input, Output\n",
    "from azure.ai.ml.constants import AssetTypes\n",
    "\n",
    "dtype = 'sliced8bit'\n",
    "\n",
    "inputs = {\n",
    "    \"input_data\": Input(type=AssetTypes.URI_FILE, path=f\"azureml://subscriptions/71a4020f-108b-496f-a693-d74af9fa2677/resourcegroups/nuance-team/workspaces/nuance-experiments/datastores/workspaceblobstore/paths/UI/2023-11-04_170833_UTC/train/{dtype}/\",)\n",
    "}\n",
    "\n",
    "job = command(\n",
    "    code=\"../src\",  # local path where the code is stored\n",
    "    command=\"python train.py --input_data ${{inputs.input_data}}\",\n",
    "    inputs=inputs,\n",
    "    environment=\"spotDetectionEnv:3\",\n",
    "    compute=\"josh-gpu\",\n",
    ")\n",
    "\n",
    "# submit the command\n",
    "returned_job = ml_client.create_or_update(job)\n",
    "# get a URL for the status of the job\n",
    "returned_job.studio_url"
   ]
  },
  {
   "cell_type": "markdown",
   "metadata": {},
   "source": [
    "## With Debugger Attached"
   ]
  },
  {
   "cell_type": "code",
   "execution_count": 7,
   "metadata": {},
   "outputs": [
    {
     "name": "stderr",
     "output_type": "stream",
     "text": [
      "\u001b[32mUploading nuance_experiments (15.87 MBs): 100%|██████████| 15868063/15868063 [00:16<00:00, 989912.21it/s] \n",
      "\u001b[39m\n",
      "\n",
      "Readonly attribute status will be ignored in class <class 'azure.ai.ml._restclient.v2023_04_01_preview.models._models_py3.JobService'>\n"
     ]
    },
    {
     "data": {
      "text/plain": [
       "'https://ml.azure.com/runs/cool_watch_sktydlc6ym?wsid=/subscriptions/71a4020f-108b-496f-a693-d74af9fa2677/resourcegroups/nuance-team/workspaces/nuance-experiments&tid=49a830aa-c92e-47d5-bb7e-264801d69db4'"
      ]
     },
     "execution_count": 7,
     "metadata": {},
     "output_type": "execute_result"
    }
   ],
   "source": [
    "from azure.ai.ml import command\n",
    "from azure.ai.ml.entities import Data, JobService, VsCodeJobService\n",
    "from azure.ai.ml import Input, Output\n",
    "from azure.ai.ml.constants import AssetTypes\n",
    "\n",
    "dtype = 'sliced8bit'\n",
    "\n",
    "inputs = {\n",
    "    \"input_data\": Input(type=AssetTypes.URI_FILE, path=f\"azureml://subscriptions/71a4020f-108b-496f-a693-d74af9fa2677/resourcegroups/nuance-team/workspaces/nuance-experiments/datastores/workspaceblobstore/paths/UI/2023-11-04_170833_UTC/train/{dtype}/\",)\n",
    "}\n",
    "\n",
    "job = command(\n",
    "    code=\"../src\",  # local path where the code is stored\n",
    "    command=\"python -m debugpy --listen localhost:5678 --wait-for-client train.py --input_data ${{inputs.input_data}}\" ,\n",
    "    inputs=inputs,\n",
    "    environment=\"datalabeling:8\",\n",
    "    compute=\"joshs-cpu-big\",\n",
    "    services={\n",
    "        \"my_vscode\": VsCodeJobService(port=5678),\n",
    "    },\n",
    "    \n",
    ")\n",
    "\n",
    "# submit the command\n",
    "returned_job = ml_client.create_or_update(job)\n",
    "# get a URL for the status of the job\n",
    "returned_job.studio_url"
   ]
  }
 ],
 "metadata": {
  "description": {
   "description": "Read, write and register a data asset"
  },
  "kernelspec": {
   "display_name": "spotDetectorVenv",
   "language": "python",
   "name": "python3"
  },
  "language_info": {
   "codemirror_mode": {
    "name": "ipython",
    "version": 3
   },
   "file_extension": ".py",
   "mimetype": "text/x-python",
   "name": "python",
   "nbconvert_exporter": "python",
   "pygments_lexer": "ipython3",
   "version": "3.12.7"
  }
 },
 "nbformat": 4,
 "nbformat_minor": 4
}
